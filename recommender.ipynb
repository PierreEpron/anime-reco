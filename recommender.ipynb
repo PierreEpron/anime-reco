{
 "cells": [
  {
   "cell_type": "code",
   "execution_count": 1,
   "metadata": {},
   "outputs": [],
   "source": [
    "import pandas as pd\n",
    "\n",
    "import pandas as pd # use dataframes, for data analysis \n",
    "import numpy as np\n",
    "import matplotlib.pyplot as plt\n",
    "import seaborn as sns\n",
    "\n",
    "from surprise import Dataset,Reader\n",
    "from surprise.model_selection import cross_validate\n",
    "from surprise import KNNBasic,KNNWithMeans,accuracy\n",
    "from surprise.model_selection import train_test_split"
   ]
  },
  {
   "cell_type": "code",
   "execution_count": null,
   "metadata": {},
   "outputs": [],
   "source": [
    "#archive has 5 files:\n",
    "# - anime.csv : list animes with characteristics. Interesting columns : genres, studio, type, rating (age), episodes, source\n",
    "# - anime_with_synopsis.csv : same as above\n",
    "# - animelist.csv : users with user_id, anime_id, rating, watching_status, watched_episodes\n",
    "# - rating_complete.csv : part of animelist with only completed and rated animes \n",
    "# - watching_status.csv : all possible status for watching_status in animelist"
   ]
  },
  {
   "cell_type": "code",
   "execution_count": 19,
   "metadata": {},
   "outputs": [],
   "source": [
    "# df_ = pd.read_csv('./data/anime.csv')"
   ]
  },
  {
   "cell_type": "code",
   "execution_count": 10,
   "metadata": {},
   "outputs": [],
   "source": [
    "# df = pd.read_csv('./data/animelist.csv', usecols=range(3), header=0, names=('user', 'item', 'rating'))\n",
    "# df = df.query('rating!=0') #filter rows with 0 as rating: user has added the anime to his list but not rated it yet"
   ]
  },
  {
   "cell_type": "code",
   "execution_count": 2,
   "metadata": {},
   "outputs": [],
   "source": [
    "df = pd.read_csv('./data/rating_complete.csv', usecols=range(3), header=0, names=('user', 'item', 'rating'), nrows=500000) #limit row to 500k for tests or things take a while"
   ]
  },
  {
   "cell_type": "code",
   "execution_count": 3,
   "metadata": {},
   "outputs": [],
   "source": [
    "reader = Reader(rating_scale=(1, 10))\n",
    "data = Dataset.load_from_df(df, reader)"
   ]
  },
  {
   "cell_type": "code",
   "execution_count": 4,
   "metadata": {},
   "outputs": [],
   "source": [
    "# split dataset into 80% train and 20% test\n",
    "trainset, testset=train_test_split(data, test_size=0.2)"
   ]
  },
  {
   "cell_type": "code",
   "execution_count": 5,
   "metadata": {},
   "outputs": [
    {
     "name": "stdout",
     "output_type": "stream",
     "text": [
      "Computing the cosine similarity matrix...\n",
      "Done computing similarity matrix.\n",
      "RMSE: 1.5445\n",
      "MAE:  1.1658\n",
      "Computing the cosine similarity matrix...\n",
      "Done computing similarity matrix.\n",
      "RMSE: 1.5288\n",
      "MAE:  1.1532\n"
     ]
    },
    {
     "data": {
      "text/plain": [
       "1.1531845510370489"
      ]
     },
     "execution_count": 5,
     "metadata": {},
     "output_type": "execute_result"
    }
   ],
   "source": [
    "#user-based Cosine\n",
    "sim_options = {\n",
    "    \"user_based\": True,  # compute  similarities between users\n",
    "    \"name\":\"cosine\"\n",
    "}\n",
    "\n",
    "# With K=20 neighbors\n",
    "algo = KNNBasic(sim_options=sim_options,k=20, min_k=5) #default value of k is 40\n",
    " \n",
    "#cv=cross_validate(algo, data, measures=[\"RMSE\", \"MAE\"], cv=5, return_train_measures=True, verbose=True)\n",
    "algo.fit(trainset) # compute similarities\n",
    "predictions = algo.test(testset)\n",
    "accuracy.rmse(predictions)\n",
    "accuracy.mae(predictions)\n",
    "\n",
    "# Let us make K change K=40\n",
    "algo = KNNBasic(sim_options=sim_options,k=40, min_k=5) #default value of k is 40\n",
    "algo.fit(trainset)\n",
    "predictions = algo.test(testset)\n",
    "accuracy.rmse(predictions)\n",
    "accuracy.mae(predictions)"
   ]
  },
  {
   "cell_type": "code",
   "execution_count": 36,
   "metadata": {},
   "outputs": [
    {
     "name": "stdout",
     "output_type": "stream",
     "text": [
      "Computing the pearson similarity matrix...\n",
      "Done computing similarity matrix.\n",
      "RMSE: 1.2418\n",
      "MAE:  0.9395\n"
     ]
    },
    {
     "data": {
      "text/plain": [
       "0.9395057615062126"
      ]
     },
     "execution_count": 36,
     "metadata": {},
     "output_type": "execute_result"
    }
   ],
   "source": [
    "#user-based Pearson\n",
    "sim_options = {\n",
    "    \"user_based\": True,  # compute  similarities between users\n",
    "    \"name\":\"pearson\"\n",
    "}\n",
    "algo = KNNWithMeans(sim_options=sim_options,k=40, min_k=5) #default value of k is 40\n",
    "\n",
    "#cv=cross_validate(algo, data, measures=[\"RMSE\", \"MAE\"], cv=5, return_train_measures=True, verbose=True)\n",
    "algo.fit(trainset)\n",
    "predictions = algo.test(testset)\n",
    "accuracy.rmse(predictions)\n",
    "accuracy.mae(predictions)"
   ]
  },
  {
   "cell_type": "code",
   "execution_count": 37,
   "metadata": {},
   "outputs": [
    {
     "name": "stdout",
     "output_type": "stream",
     "text": [
      "Computing the cosine similarity matrix...\n",
      "Done computing similarity matrix.\n",
      "RMSE: 1.4126\n",
      "MAE:  1.0688\n"
     ]
    },
    {
     "data": {
      "text/plain": [
       "1.068789640997865"
      ]
     },
     "execution_count": 37,
     "metadata": {},
     "output_type": "execute_result"
    }
   ],
   "source": [
    "#item-based (Cosine)\n",
    "sim_options = {\n",
    "    \"user_based\": False,  # compute similarities between items\n",
    "    \"name\":\"cosine\"\n",
    "}\n",
    "algo = KNNBasic(sim_options=sim_options,k=40, min_k=5) #default value of k is 40\n",
    "# \n",
    "#cv=cross_validate(algo, data, measures=[\"RMSE\", \"MAE\"], cv=5, return_train_measures=True, verbose=True)\n",
    "algo.fit(trainset)\n",
    "predictions = algo.test(testset)\n",
    "accuracy.rmse(predictions)\n",
    "accuracy.mae(predictions)"
   ]
  },
  {
   "cell_type": "code",
   "execution_count": null,
   "metadata": {},
   "outputs": [],
   "source": [
    "# user-based with Pearson and cross-validation\n",
    "sim_options = {\n",
    "    \"name\": \"pearson\",\n",
    "    \"user_based\": True,  # compute  similarities between items\n",
    "}\n",
    "algo = KNNBasic(sim_options=sim_options, k=40,min_k=20)\n",
    "cv=cross_validate(algo, data, measures=[\"RMSE\", \"MAE\"], cv=5, verbose=True)"
   ]
  },
  {
   "cell_type": "code",
   "execution_count": null,
   "metadata": {},
   "outputs": [],
   "source": [
    "# Visualize\n",
    "rmse = cv['test_rmse']\n",
    "mae = cv['test_mae']\n",
    "x = np.arange(len(rmse))\n",
    "\n",
    "# Set up the matplotlib figure\n",
    "fig, ax = plt.subplots(figsize = (10, 5))\n",
    "plt.xticks(np.arange(min(x), max(x) + 2, 1.0))\n",
    "plt.ylim(0.5, 2)\n",
    "ax.plot(x, rmse, marker='o', label=\"rmse\")\n",
    "ax.plot(x, mae, marker='o', label=\"mae\")\n",
    "\n",
    "# Chart setup\n",
    "plt.title(\"Test set errors\", fontsize = 12)\n",
    "plt.xlabel(\"Fold\", fontsize = 10)\n",
    "plt.ylabel(\"Error\", fontsize = 10)\n",
    "plt.legend()\n",
    "plt.show()"
   ]
  },
  {
   "cell_type": "markdown",
   "metadata": {},
   "source": [
    "## Stats"
   ]
  },
  {
   "cell_type": "code",
   "execution_count": 161,
   "metadata": {},
   "outputs": [],
   "source": [
    "n = len(df.rating.unique())\n",
    "cols = [tuple([deb+(fin-deb)/n*x for fin,deb in zip((0.19, 0.9, 0.29), (0.92,0.12,0.18))]) for x in range(n)] #gradient"
   ]
  },
  {
   "cell_type": "code",
   "execution_count": 165,
   "metadata": {},
   "outputs": [
    {
     "data": {
      "text/plain": [
       "<Axes: >"
      ]
     },
     "execution_count": 165,
     "metadata": {},
     "output_type": "execute_result"
    },
    {
     "data": {
      "image/png": "[encoded data removed]",
      "text/plain": [
       "<Figure size 640x480 with 1 Axes>"
      ]
     },
     "metadata": {},
     "output_type": "display_data"
    }
   ],
   "source": [
    "#repartition of ratings\n",
    "df.rating.value_counts().sort_index().plot.bar(color=cols)"
   ]
  },
  {
   "cell_type": "code",
   "execution_count": 166,
   "metadata": {},
   "outputs": [
    {
     "data": {
      "text/plain": [
       "<Axes: >"
      ]
     },
     "execution_count": 166,
     "metadata": {},
     "output_type": "execute_result"
    },
    {
     "data": {
      "image/png": "[encoded data removed]",
      "text/plain": [
       "<Figure size 640x480 with 1 Axes>"
      ]
     },
     "metadata": {},
     "output_type": "display_data"
    }
   ],
   "source": [
    "#repartition of ratings\n",
    "df.rating.plot.box()"
   ]
  },
  {
   "cell_type": "code",
   "execution_count": 182,
   "metadata": {},
   "outputs": [
    {
     "name": "stdout",
     "output_type": "stream",
     "text": [
      "Number of animes: 17172\n",
      "Number of users: 313670\n",
      "Number of rows: 62397712\n",
      "Median rating: 8.0\n",
      "Average rating: 7.432\n"
     ]
    }
   ],
   "source": [
    "print('Number of animes:', len(df.anime_id.unique()))\n",
    "print('Number of users:', len(df.user_id.unique()))\n",
    "print('Number of rows:', len(df))\n",
    "\n",
    "print('Median rating:', df.rating.median())\n",
    "print('Average rating:', round(df.rating.mean(),3))"
   ]
  }
 ],
 "metadata": {
  "kernelspec": {
   "display_name": "Python 3 (ipykernel)",
   "language": "python",
   "name": "python3"
  },
  "language_info": {
   "codemirror_mode": {
    "name": "ipython",
    "version": 3
   },
   "file_extension": ".py",
   "mimetype": "text/x-python",
   "name": "python",
   "nbconvert_exporter": "python",
   "pygments_lexer": "ipython3",
   "version": "3.9.18"
  }
 },
 "nbformat": 4,
 "nbformat_minor": 2
}
