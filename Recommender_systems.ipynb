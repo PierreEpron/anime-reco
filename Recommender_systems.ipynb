{
  "cells": [
    {
      "cell_type": "code",
      "source": [
        "# Install dependencies"
      ],
      "metadata": {
        "id": "0McY6pcABPdP"
      },
      "id": "0McY6pcABPdP",
      "execution_count": null,
      "outputs": []
    },
    {
      "cell_type": "code",
      "execution_count": null,
      "id": "30ad567b",
      "metadata": {
        "id": "30ad567b",
        "colab": {
          "base_uri": "https://localhost:8080/"
        },
        "outputId": "059aa9c2-03a2-4a00-d09c-67b051813b71"
      },
      "outputs": [
        {
          "output_type": "stream",
          "name": "stdout",
          "text": [
            "\u001b[?25l     \u001b[90m━━━━━━━━━━━━━━━━━━━━━━━━━━━━━━━━━━━━━━━━\u001b[0m \u001b[32m0.0/772.0 kB\u001b[0m \u001b[31m?\u001b[0m eta \u001b[36m-:--:--\u001b[0m\r\u001b[2K     \u001b[91m━━━━━━━━━━━━━━━━━━━━\u001b[0m\u001b[91m╸\u001b[0m\u001b[90m━━━━━━━━━━━━━━━━━━━\u001b[0m \u001b[32m399.4/772.0 kB\u001b[0m \u001b[31m12.0 MB/s\u001b[0m eta \u001b[36m0:00:01\u001b[0m\r\u001b[2K     \u001b[90m━━━━━━━━━━━━━━━━━━━━━━━━━━━━━━━━━━━━━━━━\u001b[0m \u001b[32m772.0/772.0 kB\u001b[0m \u001b[31m11.7 MB/s\u001b[0m eta \u001b[36m0:00:00\u001b[0m\n",
            "\u001b[?25h  Preparing metadata (setup.py) ... \u001b[?25l\u001b[?25hdone\n",
            "  Building wheel for scikit-surprise (setup.py) ... \u001b[?25l\u001b[?25hdone\n"
          ]
        }
      ],
      "source": [
        "!pip install scikit-surprise --quiet"
      ]
    },
    {
      "cell_type": "code",
      "source": [
        "# !pip install kaggle --quite"
      ],
      "metadata": {
        "id": "VhWKA0sALIqh"
      },
      "id": "VhWKA0sALIqh",
      "execution_count": null,
      "outputs": []
    },
    {
      "cell_type": "code",
      "source": [
        "!pip install dask --quiet"
      ],
      "metadata": {
        "id": "IM-xQ1Fvs2HW"
      },
      "id": "IM-xQ1Fvs2HW",
      "execution_count": null,
      "outputs": []
    },
    {
      "cell_type": "code",
      "source": [
        "!pip install Dataset dataset --quiet"
      ],
      "metadata": {
        "id": "u9xp3aecT-LL"
      },
      "id": "u9xp3aecT-LL",
      "execution_count": null,
      "outputs": []
    },
    {
      "cell_type": "code",
      "source": [
        "from google.colab import drive\n",
        "drive.mount('/content/drive')"
      ],
      "metadata": {
        "colab": {
          "base_uri": "https://localhost:8080/"
        },
        "id": "xBYvp56KjyJ2",
        "outputId": "9c93b5b5-2a72-4634-cb0e-e45cbe52be9d"
      },
      "id": "xBYvp56KjyJ2",
      "execution_count": null,
      "outputs": [
        {
          "output_type": "stream",
          "name": "stdout",
          "text": [
            "Mounted at /content/drive\n"
          ]
        }
      ]
    },
    {
      "cell_type": "code",
      "source": [
        "from surprise import SVD, NMF, KNNBasic, accuracy\n",
        "from surprise.model_selection import train_test_split, cross_validate, GridSearchCV"
      ],
      "metadata": {
        "id": "I23qVOMY4oGT"
      },
      "id": "I23qVOMY4oGT",
      "execution_count": 38,
      "outputs": []
    },
    {
      "cell_type": "code",
      "source": [
        "# Import files"
      ],
      "metadata": {
        "id": "h5a8fX80BShz"
      },
      "id": "h5a8fX80BShz",
      "execution_count": null,
      "outputs": []
    },
    {
      "cell_type": "code",
      "source": [
        "import pandas as pd\n",
        "# use rating_complete first, then animelist\n",
        "# Surprise expects : user, item, ratings\n",
        "\n",
        "# anime_df = pd.read_csv(\"/content/drive/Othercomputers/My MacBook Air/Reccomender_Systems/Kaggle files/anime.csv\")\n",
        "# # anime_with_syn = pd.read_csv(\"/content/drive/Othercomputers/My MacBook Air/Reccomender_Systems/Kaggle files/anime_with_synopsis.csv\")\n",
        "# animelist_df = pd.read_csv(\"/content/drive/Othercomputers/My MacBook Air/Reccomender_Systems/Kaggle files/animelist.csv\")\n",
        "ratings_df = pd.read_csv(\"/content/drive/Othercomputers/My MacBook Air/Reccomender_Systems/Kaggle files/rating_complete.csv\", usecols=range(3), header=0, names=('user', 'item', 'rating'), nrows=500000)"
      ],
      "metadata": {
        "id": "mebCvAj8InZ9"
      },
      "id": "mebCvAj8InZ9",
      "execution_count": null,
      "outputs": []
    },
    {
      "cell_type": "code",
      "source": [
        "anime_df.head(1)"
      ],
      "metadata": {
        "id": "8exUoHwRkZp8"
      },
      "id": "8exUoHwRkZp8",
      "execution_count": null,
      "outputs": []
    },
    {
      "cell_type": "code",
      "source": [
        "# anime_with_syn.head() # not needed"
      ],
      "metadata": {
        "id": "qH5MnSWxiAQX"
      },
      "id": "qH5MnSWxiAQX",
      "execution_count": null,
      "outputs": []
    },
    {
      "cell_type": "code",
      "source": [
        "animelist_df.head(1)"
      ],
      "metadata": {
        "id": "Nd_6CtFeiC4a",
        "colab": {
          "base_uri": "https://localhost:8080/",
          "height": 80
        },
        "outputId": "2a7f1084-69b6-4ae0-f86e-b4d64af592f8"
      },
      "id": "Nd_6CtFeiC4a",
      "execution_count": 28,
      "outputs": [
        {
          "output_type": "execute_result",
          "data": {
            "text/plain": [
              "   user_id  anime_id  rating  watching_status  watched_episodes\n",
              "0        0        67       9                1                 1"
            ],
            "text/html": [
              "\n",
              "  <div id=\"df-a83c1c40-18e7-4f79-b134-9fcc5e1444dd\" class=\"colab-df-container\">\n",
              "    <div>\n",
              "<style scoped>\n",
              "    .dataframe tbody tr th:only-of-type {\n",
              "        vertical-align: middle;\n",
              "    }\n",
              "\n",
              "    .dataframe tbody tr th {\n",
              "        vertical-align: top;\n",
              "    }\n",
              "\n",
              "    .dataframe thead th {\n",
              "        text-align: right;\n",
              "    }\n",
              "</style>\n",
              "<table border=\"1\" class=\"dataframe\">\n",
              "  <thead>\n",
              "    <tr style=\"text-align: right;\">\n",
              "      <th></th>\n",
              "      <th>user_id</th>\n",
              "      <th>anime_id</th>\n",
              "      <th>rating</th>\n",
              "      <th>watching_status</th>\n",
              "      <th>watched_episodes</th>\n",
              "    </tr>\n",
              "  </thead>\n",
              "  <tbody>\n",
              "    <tr>\n",
              "      <th>0</th>\n",
              "      <td>0</td>\n",
              "      <td>67</td>\n",
              "      <td>9</td>\n",
              "      <td>1</td>\n",
              "      <td>1</td>\n",
              "    </tr>\n",
              "  </tbody>\n",
              "</table>\n",
              "</div>\n",
              "    <div class=\"colab-df-buttons\">\n",
              "\n",
              "  <div class=\"colab-df-container\">\n",
              "    <button class=\"colab-df-convert\" onclick=\"convertToInteractive('df-a83c1c40-18e7-4f79-b134-9fcc5e1444dd')\"\n",
              "            title=\"Convert this dataframe to an interactive table.\"\n",
              "            style=\"display:none;\">\n",
              "\n",
              "  <svg xmlns=\"http://www.w3.org/2000/svg\" height=\"24px\" viewBox=\"0 -960 960 960\">\n",
              "    <path d=\"M120-120v-720h720v720H120Zm60-500h600v-160H180v160Zm220 220h160v-160H400v160Zm0 220h160v-160H400v160ZM180-400h160v-160H180v160Zm440 0h160v-160H620v160ZM180-180h160v-160H180v160Zm440 0h160v-160H620v160Z\"/>\n",
              "  </svg>\n",
              "    </button>\n",
              "\n",
              "  <style>\n",
              "    .colab-df-container {\n",
              "      display:flex;\n",
              "      gap: 12px;\n",
              "    }\n",
              "\n",
              "    .colab-df-convert {\n",
              "      background-color: #E8F0FE;\n",
              "      border: none;\n",
              "      border-radius: 50%;\n",
              "      cursor: pointer;\n",
              "      display: none;\n",
              "      fill: #1967D2;\n",
              "      height: 32px;\n",
              "      padding: 0 0 0 0;\n",
              "      width: 32px;\n",
              "    }\n",
              "\n",
              "    .colab-df-convert:hover {\n",
              "      background-color: #E2EBFA;\n",
              "      box-shadow: 0px 1px 2px rgba(60, 64, 67, 0.3), 0px 1px 3px 1px rgba(60, 64, 67, 0.15);\n",
              "      fill: #174EA6;\n",
              "    }\n",
              "\n",
              "    .colab-df-buttons div {\n",
              "      margin-bottom: 4px;\n",
              "    }\n",
              "\n",
              "    [theme=dark] .colab-df-convert {\n",
              "      background-color: #3B4455;\n",
              "      fill: #D2E3FC;\n",
              "    }\n",
              "\n",
              "    [theme=dark] .colab-df-convert:hover {\n",
              "      background-color: #434B5C;\n",
              "      box-shadow: 0px 1px 3px 1px rgba(0, 0, 0, 0.15);\n",
              "      filter: drop-shadow(0px 1px 2px rgba(0, 0, 0, 0.3));\n",
              "      fill: #FFFFFF;\n",
              "    }\n",
              "  </style>\n",
              "\n",
              "    <script>\n",
              "      const buttonEl =\n",
              "        document.querySelector('#df-a83c1c40-18e7-4f79-b134-9fcc5e1444dd button.colab-df-convert');\n",
              "      buttonEl.style.display =\n",
              "        google.colab.kernel.accessAllowed ? 'block' : 'none';\n",
              "\n",
              "      async function convertToInteractive(key) {\n",
              "        const element = document.querySelector('#df-a83c1c40-18e7-4f79-b134-9fcc5e1444dd');\n",
              "        const dataTable =\n",
              "          await google.colab.kernel.invokeFunction('convertToInteractive',\n",
              "                                                    [key], {});\n",
              "        if (!dataTable) return;\n",
              "\n",
              "        const docLinkHtml = 'Like what you see? Visit the ' +\n",
              "          '<a target=\"_blank\" href=https://colab.research.google.com/notebooks/data_table.ipynb>data table notebook</a>'\n",
              "          + ' to learn more about interactive tables.';\n",
              "        element.innerHTML = '';\n",
              "        dataTable['output_type'] = 'display_data';\n",
              "        await google.colab.output.renderOutput(dataTable, element);\n",
              "        const docLink = document.createElement('div');\n",
              "        docLink.innerHTML = docLinkHtml;\n",
              "        element.appendChild(docLink);\n",
              "      }\n",
              "    </script>\n",
              "  </div>\n",
              "\n",
              "    </div>\n",
              "  </div>\n"
            ]
          },
          "metadata": {},
          "execution_count": 28
        }
      ]
    },
    {
      "cell_type": "code",
      "source": [
        "ratings_df.head(1)"
      ],
      "metadata": {
        "colab": {
          "base_uri": "https://localhost:8080/",
          "height": 80
        },
        "id": "s1Oic2l_iFKw",
        "outputId": "5b46fa17-65d7-4337-da2c-2befb59f5ef7"
      },
      "id": "s1Oic2l_iFKw",
      "execution_count": 29,
      "outputs": [
        {
          "output_type": "execute_result",
          "data": {
            "text/plain": [
              "   user  item  rating\n",
              "0     0   430       9"
            ],
            "text/html": [
              "\n",
              "  <div id=\"df-eff03dd6-2bb4-4522-8faf-64e7723481a9\" class=\"colab-df-container\">\n",
              "    <div>\n",
              "<style scoped>\n",
              "    .dataframe tbody tr th:only-of-type {\n",
              "        vertical-align: middle;\n",
              "    }\n",
              "\n",
              "    .dataframe tbody tr th {\n",
              "        vertical-align: top;\n",
              "    }\n",
              "\n",
              "    .dataframe thead th {\n",
              "        text-align: right;\n",
              "    }\n",
              "</style>\n",
              "<table border=\"1\" class=\"dataframe\">\n",
              "  <thead>\n",
              "    <tr style=\"text-align: right;\">\n",
              "      <th></th>\n",
              "      <th>user</th>\n",
              "      <th>item</th>\n",
              "      <th>rating</th>\n",
              "    </tr>\n",
              "  </thead>\n",
              "  <tbody>\n",
              "    <tr>\n",
              "      <th>0</th>\n",
              "      <td>0</td>\n",
              "      <td>430</td>\n",
              "      <td>9</td>\n",
              "    </tr>\n",
              "  </tbody>\n",
              "</table>\n",
              "</div>\n",
              "    <div class=\"colab-df-buttons\">\n",
              "\n",
              "  <div class=\"colab-df-container\">\n",
              "    <button class=\"colab-df-convert\" onclick=\"convertToInteractive('df-eff03dd6-2bb4-4522-8faf-64e7723481a9')\"\n",
              "            title=\"Convert this dataframe to an interactive table.\"\n",
              "            style=\"display:none;\">\n",
              "\n",
              "  <svg xmlns=\"http://www.w3.org/2000/svg\" height=\"24px\" viewBox=\"0 -960 960 960\">\n",
              "    <path d=\"M120-120v-720h720v720H120Zm60-500h600v-160H180v160Zm220 220h160v-160H400v160Zm0 220h160v-160H400v160ZM180-400h160v-160H180v160Zm440 0h160v-160H620v160ZM180-180h160v-160H180v160Zm440 0h160v-160H620v160Z\"/>\n",
              "  </svg>\n",
              "    </button>\n",
              "\n",
              "  <style>\n",
              "    .colab-df-container {\n",
              "      display:flex;\n",
              "      gap: 12px;\n",
              "    }\n",
              "\n",
              "    .colab-df-convert {\n",
              "      background-color: #E8F0FE;\n",
              "      border: none;\n",
              "      border-radius: 50%;\n",
              "      cursor: pointer;\n",
              "      display: none;\n",
              "      fill: #1967D2;\n",
              "      height: 32px;\n",
              "      padding: 0 0 0 0;\n",
              "      width: 32px;\n",
              "    }\n",
              "\n",
              "    .colab-df-convert:hover {\n",
              "      background-color: #E2EBFA;\n",
              "      box-shadow: 0px 1px 2px rgba(60, 64, 67, 0.3), 0px 1px 3px 1px rgba(60, 64, 67, 0.15);\n",
              "      fill: #174EA6;\n",
              "    }\n",
              "\n",
              "    .colab-df-buttons div {\n",
              "      margin-bottom: 4px;\n",
              "    }\n",
              "\n",
              "    [theme=dark] .colab-df-convert {\n",
              "      background-color: #3B4455;\n",
              "      fill: #D2E3FC;\n",
              "    }\n",
              "\n",
              "    [theme=dark] .colab-df-convert:hover {\n",
              "      background-color: #434B5C;\n",
              "      box-shadow: 0px 1px 3px 1px rgba(0, 0, 0, 0.15);\n",
              "      filter: drop-shadow(0px 1px 2px rgba(0, 0, 0, 0.3));\n",
              "      fill: #FFFFFF;\n",
              "    }\n",
              "  </style>\n",
              "\n",
              "    <script>\n",
              "      const buttonEl =\n",
              "        document.querySelector('#df-eff03dd6-2bb4-4522-8faf-64e7723481a9 button.colab-df-convert');\n",
              "      buttonEl.style.display =\n",
              "        google.colab.kernel.accessAllowed ? 'block' : 'none';\n",
              "\n",
              "      async function convertToInteractive(key) {\n",
              "        const element = document.querySelector('#df-eff03dd6-2bb4-4522-8faf-64e7723481a9');\n",
              "        const dataTable =\n",
              "          await google.colab.kernel.invokeFunction('convertToInteractive',\n",
              "                                                    [key], {});\n",
              "        if (!dataTable) return;\n",
              "\n",
              "        const docLinkHtml = 'Like what you see? Visit the ' +\n",
              "          '<a target=\"_blank\" href=https://colab.research.google.com/notebooks/data_table.ipynb>data table notebook</a>'\n",
              "          + ' to learn more about interactive tables.';\n",
              "        element.innerHTML = '';\n",
              "        dataTable['output_type'] = 'display_data';\n",
              "        await google.colab.output.renderOutput(dataTable, element);\n",
              "        const docLink = document.createElement('div');\n",
              "        docLink.innerHTML = docLinkHtml;\n",
              "        element.appendChild(docLink);\n",
              "      }\n",
              "    </script>\n",
              "  </div>\n",
              "\n",
              "    </div>\n",
              "  </div>\n"
            ]
          },
          "metadata": {},
          "execution_count": 29
        }
      ]
    },
    {
      "cell_type": "code",
      "source": [
        "# Using the Surprise library with the different\n",
        "# The lower the RMSE / MSE the better"
      ],
      "metadata": {
        "id": "mdqpAQLSBVS3"
      },
      "id": "mdqpAQLSBVS3",
      "execution_count": null,
      "outputs": []
    },
    {
      "cell_type": "code",
      "source": [
        "from surprise import Dataset, Reader\n",
        "\n",
        "# Prepare the dataset for Surprise\n",
        "reader = Reader(rating_scale=(1, 10))\n",
        "\n",
        "data = Dataset.load_from_df(ratings_df[['user', 'item', 'rating']], reader)"
      ],
      "metadata": {
        "id": "J-HtxprTo3-w"
      },
      "id": "J-HtxprTo3-w",
      "execution_count": 30,
      "outputs": []
    },
    {
      "cell_type": "code",
      "source": [
        "# Use SVD algorithm\n",
        "algo = SVD()\n",
        "\n",
        "# Split the data into training and test set\n",
        "trainset, testset = train_test_split(data, test_size=0.25)\n",
        "\n",
        "# Train the algorithm using the trainset\n",
        "algo.fit(trainset)\n",
        "\n",
        "# Predict ratings\n",
        "predictions = algo.test(testset)\n",
        "\n",
        "# Compute the Root Mean Squared Error and Mean Squared Error\n",
        "accuracy.rmse(predictions)\n",
        "accuracy.mse(predictions)"
      ],
      "metadata": {
        "id": "EVBfGWPemstx",
        "colab": {
          "base_uri": "https://localhost:8080/"
        },
        "outputId": "a4460e37-f431-442b-9626-eae8543be80f"
      },
      "id": "EVBfGWPemstx",
      "execution_count": 31,
      "outputs": [
        {
          "output_type": "stream",
          "name": "stdout",
          "text": [
            "RMSE: 1.2331\n",
            "MSE: 1.5206\n"
          ]
        },
        {
          "output_type": "execute_result",
          "data": {
            "text/plain": [
              "1.5206381921896646"
            ]
          },
          "metadata": {},
          "execution_count": 31
        }
      ]
    },
    {
      "cell_type": "code",
      "source": [
        "# Use the KNNBasic algorithm\n",
        "algo = KNNBasic()\n",
        "\n",
        "# Train the algorithm on the trainset\n",
        "algo.fit(trainset)\n",
        "\n",
        "# Predict ratings\n",
        "predictions = algo.test(testset)\n",
        "\n",
        "# Compute the Root Mean Squared Error and Mean Squared Error\n",
        "accuracy.rmse(predictions)\n",
        "accuracy.mse(predictions)"
      ],
      "metadata": {
        "colab": {
          "base_uri": "https://localhost:8080/"
        },
        "id": "HzKKVorKU09V",
        "outputId": "65cd6cd4-af0e-4cd1-c3c5-ba0c89e50246"
      },
      "id": "HzKKVorKU09V",
      "execution_count": 32,
      "outputs": [
        {
          "output_type": "stream",
          "name": "stdout",
          "text": [
            "Computing the msd similarity matrix...\n",
            "Done computing similarity matrix.\n",
            "RMSE: 1.3598\n",
            "MSE: 1.8491\n"
          ]
        },
        {
          "output_type": "execute_result",
          "data": {
            "text/plain": [
              "1.8491366018012765"
            ]
          },
          "metadata": {},
          "execution_count": 32
        }
      ]
    },
    {
      "cell_type": "code",
      "source": [
        "# Use the NMF algorithm\n",
        "algo = NMF()\n",
        "\n",
        "# Train the algorithm on the trainset\n",
        "algo.fit(trainset)\n",
        "\n",
        "# Predict ratings\n",
        "predictions = algo.test(testset)\n",
        "\n",
        "# Compute the Root Mean Squared Error and Mean Squared Error\n",
        "accuracy.rmse(predictions)\n",
        "accuracy.mse(predictions)"
      ],
      "metadata": {
        "colab": {
          "base_uri": "https://localhost:8080/"
        },
        "id": "rNiZvDriU3Wt",
        "outputId": "1abb2c64-e954-4e51-e0ec-38c4d521a4d6"
      },
      "id": "rNiZvDriU3Wt",
      "execution_count": 33,
      "outputs": [
        {
          "output_type": "stream",
          "name": "stdout",
          "text": [
            "RMSE: 2.1210\n",
            "MSE: 4.4985\n"
          ]
        },
        {
          "output_type": "execute_result",
          "data": {
            "text/plain": [
              "4.498501411313473"
            ]
          },
          "metadata": {},
          "execution_count": 33
        }
      ]
    },
    {
      "cell_type": "code",
      "source": [
        "# Cross Validation and Grid Search"
      ],
      "metadata": {
        "id": "vCB7gWGkBbRA"
      },
      "id": "vCB7gWGkBbRA",
      "execution_count": null,
      "outputs": []
    },
    {
      "cell_type": "code",
      "source": [
        "# CROSS VALIDATION\n",
        "\n",
        "# Parameter grid\n",
        "param_grid = {\n",
        "    'n_epochs': [5, 10, 20, 30],\n",
        "    'lr_all': [0.002, 0.003, 0.005],\n",
        "    'reg_all': [0.4, 0.6]\n",
        "}\n",
        "\n",
        "# Perform grid search\n",
        "gs = GridSearchCV(SVD, param_grid, measures=['rmse', 'mse'], cv=5)\n",
        "gs.fit(data)\n",
        "\n",
        "# Best RMSE score\n",
        "print(gs.best_score['rmse'])\n",
        "\n",
        "# Lists the params with the best RMSE score\n",
        "print(gs.best_params['rmse'])"
      ],
      "metadata": {
        "colab": {
          "base_uri": "https://localhost:8080/"
        },
        "id": "U1F4vRIzyZvv",
        "outputId": "569111dd-afc3-422e-a394-7b2bc4745861"
      },
      "id": "U1F4vRIzyZvv",
      "execution_count": 35,
      "outputs": [
        {
          "output_type": "stream",
          "name": "stdout",
          "text": [
            "1.3011919757945123\n",
            "{'n_epochs': 30, 'lr_all': 0.005, 'reg_all': 0.4}\n"
          ]
        }
      ]
    },
    {
      "cell_type": "code",
      "source": [
        "# Best MSE score\n",
        "print(\"Best MSE score:\", gs.best_score['mse'])\n",
        "\n",
        "# Lists the params with the best MSE score\n",
        "print(\"Best parameters for MSE:\", gs.best_params['mse'])"
      ],
      "metadata": {
        "colab": {
          "base_uri": "https://localhost:8080/"
        },
        "id": "z06_zK0z3Htk",
        "outputId": "04197e85-38c7-496f-9b9b-e137c565eea1"
      },
      "id": "z06_zK0z3Htk",
      "execution_count": 36,
      "outputs": [
        {
          "output_type": "stream",
          "name": "stdout",
          "text": [
            "Best MSE score: 1.6931094456899298\n",
            "Best parameters for MSE: {'n_epochs': 30, 'lr_all': 0.005, 'reg_all': 0.4}\n"
          ]
        }
      ]
    },
    {
      "cell_type": "code",
      "source": [
        "# Use the NMF algorithm\n",
        "algo = NMF()\n",
        "\n",
        "# Perform cross validation\n",
        "results = cross_validate(algo, data, measures=['rmse', 'mse'], cv=5, verbose=True)"
      ],
      "metadata": {
        "colab": {
          "base_uri": "https://localhost:8080/"
        },
        "id": "Mx6p7ljj0qsP",
        "outputId": "ffb6c79e-8ad5-4eff-a9c7-c1909353c8af"
      },
      "id": "Mx6p7ljj0qsP",
      "execution_count": 39,
      "outputs": [
        {
          "output_type": "stream",
          "name": "stdout",
          "text": [
            "Evaluating RMSE, MSE of algorithm NMF on 5 split(s).\n",
            "\n",
            "                  Fold 1  Fold 2  Fold 3  Fold 4  Fold 5  Mean    Std     \n",
            "RMSE (testset)    2.1245  2.1170  2.1153  2.1172  2.1288  2.1206  0.0052  \n",
            "MSE (testset)     4.5137  4.4819  4.4743  4.4827  4.5320  4.4969  0.0221  \n",
            "Fit time          13.71   14.98   14.90   16.69   15.99   15.25   1.02    \n",
            "Test time         0.48    1.44    1.25    1.25    1.31    1.15    0.34    \n"
          ]
        }
      ]
    },
    {
      "cell_type": "code",
      "source": [
        "# List of algorithms\n",
        "algos = [NMF(), SVD(), KNNBasic()]\n",
        "\n",
        "# Iterate over all algorithms\n",
        "for algo in algos:\n",
        "    # Perform cross-validation\n",
        "    results = cross_validate(algo, data, measures=['rmse', 'mse'], cv=5, verbose=True)\n",
        "\n",
        "    # Display results for each algorithm\n",
        "    print(\"Algorithm:\", algo.__class__.__name__)\n",
        "    print(\"Average RMSE:\", sum(results['test_rmse']) / 5)\n",
        "    print(\"Average MSE:\", sum(results['test_mse']) / 5)\n",
        "    print(\"\\n\")\n"
      ],
      "metadata": {
        "colab": {
          "base_uri": "https://localhost:8080/"
        },
        "id": "gVnFj08s356-",
        "outputId": "9bbf4d30-9f81-4c5e-8834-f45f96fa69b1"
      },
      "id": "gVnFj08s356-",
      "execution_count": 40,
      "outputs": [
        {
          "output_type": "stream",
          "name": "stdout",
          "text": [
            "Evaluating RMSE, MSE of algorithm NMF on 5 split(s).\n",
            "\n",
            "                  Fold 1  Fold 2  Fold 3  Fold 4  Fold 5  Mean    Std     \n",
            "RMSE (testset)    2.1359  2.1121  2.1235  2.1248  2.1373  2.1267  0.0092  \n",
            "MSE (testset)     4.5621  4.4611  4.5092  4.5149  4.5680  4.5230  0.0391  \n",
            "Fit time          14.40   15.41   14.71   15.13   14.83   14.90   0.35    \n",
            "Test time         1.27    1.29    1.38    1.21    1.21    1.27    0.06    \n",
            "Algorithm: NMF\n",
            "Average RMSE: 2.1267254452877906\n",
            "Average MSE: 4.523045641069475\n",
            "\n",
            "\n",
            "Evaluating RMSE, MSE of algorithm SVD on 5 split(s).\n",
            "\n",
            "                  Fold 1  Fold 2  Fold 3  Fold 4  Fold 5  Mean    Std     \n",
            "RMSE (testset)    1.2250  1.2318  1.2372  1.2313  1.2336  1.2318  0.0040  \n",
            "MSE (testset)     1.5006  1.5174  1.5306  1.5161  1.5217  1.5173  0.0098  \n",
            "Fit time          7.33    7.02    7.46    7.31    7.41    7.30    0.15    \n",
            "Test time         1.42    1.35    1.36    1.39    1.41    1.39    0.03    \n",
            "Algorithm: SVD\n",
            "Average RMSE: 1.2317698917788529\n",
            "Average MSE: 1.5172727792838738\n",
            "\n",
            "\n",
            "Computing the msd similarity matrix...\n",
            "Done computing similarity matrix.\n",
            "Computing the msd similarity matrix...\n",
            "Done computing similarity matrix.\n",
            "Computing the msd similarity matrix...\n",
            "Done computing similarity matrix.\n",
            "Computing the msd similarity matrix...\n",
            "Done computing similarity matrix.\n",
            "Computing the msd similarity matrix...\n",
            "Done computing similarity matrix.\n",
            "Evaluating RMSE, MSE of algorithm KNNBasic on 5 split(s).\n",
            "\n",
            "                  Fold 1  Fold 2  Fold 3  Fold 4  Fold 5  Mean    Std     \n",
            "RMSE (testset)    1.3534  1.3568  1.3606  1.3494  1.3591  1.3559  0.0040  \n",
            "MSE (testset)     1.8318  1.8410  1.8511  1.8210  1.8472  1.8384  0.0109  \n",
            "Fit time          6.33    6.72    6.51    6.67    6.80    6.61    0.17    \n",
            "Test time         33.53   33.60   32.33   34.44   33.59   33.50   0.67    \n",
            "Algorithm: KNNBasic\n",
            "Average RMSE: 1.3558716782259577\n",
            "Average MSE: 1.8384041668638216\n",
            "\n",
            "\n"
          ]
        }
      ]
    }
  ],
  "metadata": {
    "colab": {
      "provenance": [],
      "machine_shape": "hm"
    },
    "language_info": {
      "name": "python"
    },
    "kernelspec": {
      "name": "python3",
      "display_name": "Python 3"
    }
  },
  "nbformat": 4,
  "nbformat_minor": 5
}