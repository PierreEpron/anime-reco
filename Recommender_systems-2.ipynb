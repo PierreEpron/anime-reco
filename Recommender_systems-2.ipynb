{
  "cells": [
    {
      "cell_type": "code",
      "source": [
        "# Install dependencies"
      ],
      "metadata": {
        "id": "0McY6pcABPdP"
      },
      "id": "0McY6pcABPdP",
      "execution_count": null,
      "outputs": []
    },
    {
      "cell_type": "code",
      "execution_count": 1,
      "id": "30ad567b",
      "metadata": {
        "id": "30ad567b",
        "colab": {
          "base_uri": "https://localhost:8080/"
        },
        "outputId": "d6f18e84-938a-44fa-cc4c-ff636e9c7770"
      },
      "outputs": [
        {
          "output_type": "stream",
          "name": "stdout",
          "text": [
            "\u001b[?25l     \u001b[90m━━━━━━━━━━━━━━━━━━━━━━━━━━━━━━━━━━━━━━━━\u001b[0m \u001b[32m0.0/772.0 kB\u001b[0m \u001b[31m?\u001b[0m eta \u001b[36m-:--:--\u001b[0m\r\u001b[2K     \u001b[91m━━━\u001b[0m\u001b[90m╺\u001b[0m\u001b[90m━━━━━━━━━━━━━━━━━━━━━━━━━━━━━━━━━━━━\u001b[0m \u001b[32m61.4/772.0 kB\u001b[0m \u001b[31m1.6 MB/s\u001b[0m eta \u001b[36m0:00:01\u001b[0m\r\u001b[2K     \u001b[91m━━━━━━━━━━━━━━━━━━━━━━━━━\u001b[0m\u001b[90m╺\u001b[0m\u001b[90m━━━━━━━━━━━━━━\u001b[0m \u001b[32m491.5/772.0 kB\u001b[0m \u001b[31m7.0 MB/s\u001b[0m eta \u001b[36m0:00:01\u001b[0m\r\u001b[2K     \u001b[90m━━━━━━━━━━━━━━━━━━━━━━━━━━━━━━━━━━━━━━━━\u001b[0m \u001b[32m772.0/772.0 kB\u001b[0m \u001b[31m8.7 MB/s\u001b[0m eta \u001b[36m0:00:00\u001b[0m\n",
            "\u001b[?25h  Preparing metadata (setup.py) ... \u001b[?25l\u001b[?25hdone\n",
            "  Building wheel for scikit-surprise (setup.py) ... \u001b[?25l\u001b[?25hdone\n"
          ]
        }
      ],
      "source": [
        "!pip install scikit-surprise --quiet"
      ]
    },
    {
      "cell_type": "code",
      "source": [
        "# !pip install kaggle --quite"
      ],
      "metadata": {
        "id": "VhWKA0sALIqh"
      },
      "id": "VhWKA0sALIqh",
      "execution_count": null,
      "outputs": []
    },
    {
      "cell_type": "code",
      "source": [
        "!pip install Dataset dataset --quiet"
      ],
      "metadata": {
        "id": "u9xp3aecT-LL",
        "colab": {
          "base_uri": "https://localhost:8080/"
        },
        "outputId": "78d202f0-7d04-4b9c-a432-b5bbdca6bfc1"
      },
      "id": "u9xp3aecT-LL",
      "execution_count": 2,
      "outputs": [
        {
          "output_type": "stream",
          "name": "stdout",
          "text": [
            "\u001b[2K     \u001b[90m━━━━━━━━━━━━━━━━━━━━━━━━━━━━━━━━━━━━━━━━\u001b[0m \u001b[32m1.6/1.6 MB\u001b[0m \u001b[31m22.1 MB/s\u001b[0m eta \u001b[36m0:00:00\u001b[0m\n",
            "\u001b[2K     \u001b[90m━━━━━━━━━━━━━━━━━━━━━━━━━━━━━━━━━━━━━━━━\u001b[0m \u001b[32m233.4/233.4 kB\u001b[0m \u001b[31m21.3 MB/s\u001b[0m eta \u001b[36m0:00:00\u001b[0m\n",
            "\u001b[2K     \u001b[90m━━━━━━━━━━━━━━━━━━━━━━━━━━━━━━━━━━━━━━━━\u001b[0m \u001b[32m78.6/78.6 kB\u001b[0m \u001b[31m10.8 MB/s\u001b[0m eta \u001b[36m0:00:00\u001b[0m\n",
            "\u001b[?25h\u001b[31mERROR: pip's dependency resolver does not currently take into account all the packages that are installed. This behaviour is the source of the following dependency conflicts.\n",
            "ipython-sql 0.5.0 requires sqlalchemy>=2.0, but you have sqlalchemy 1.4.51 which is incompatible.\u001b[0m\u001b[31m\n",
            "\u001b[0m"
          ]
        }
      ]
    },
    {
      "cell_type": "code",
      "source": [
        "from google.colab import drive\n",
        "drive.mount('/content/drive')"
      ],
      "metadata": {
        "colab": {
          "base_uri": "https://localhost:8080/"
        },
        "id": "xBYvp56KjyJ2",
        "outputId": "8dbc1229-186e-427c-d66c-d89875243c24"
      },
      "id": "xBYvp56KjyJ2",
      "execution_count": 3,
      "outputs": [
        {
          "output_type": "stream",
          "name": "stdout",
          "text": [
            "Mounted at /content/drive\n"
          ]
        }
      ]
    },
    {
      "cell_type": "code",
      "source": [
        "from surprise import SVD, NMF, KNNBasic, accuracy\n",
        "from surprise.model_selection import train_test_split, cross_validate, GridSearchCV"
      ],
      "metadata": {
        "id": "I23qVOMY4oGT"
      },
      "id": "I23qVOMY4oGT",
      "execution_count": 4,
      "outputs": []
    },
    {
      "cell_type": "code",
      "source": [
        "# Import files"
      ],
      "metadata": {
        "id": "h5a8fX80BShz"
      },
      "id": "h5a8fX80BShz",
      "execution_count": null,
      "outputs": []
    },
    {
      "cell_type": "code",
      "source": [
        "import pandas as pd\n",
        "# use rating_complete first, then animelist\n",
        "# Surprise expects : user, item, ratings\n",
        "\n",
        "# anime_df = pd.read_csv(\"/content/drive/Othercomputers/My MacBook Air/Recommender_Systems/Kaggle files/anime.csv\")\n",
        "# anime_with_syn = pd.read_csv(\"/content/drive/Othercomputers/My MacBook Air/Recommender_Systems/Kaggle files/anime_with_synopsis.csv\")\n",
        "animelist_df = pd.read_csv(\"/content/drive/Othercomputers/My MacBook Air/Recomender_Systems/Kaggle files/animelist.csv\")\n",
        "ratings_df = pd.read_csv(\"/content/drive/Othercomputers/My MacBook Air/Recomender_Systems/Kaggle files/rating_complete.csv\", usecols=range(3), header=0, names=('user', 'item', 'rating'), nrows=500000)\n",
        "\n",
        "# Personal dataset\n",
        "df_reco = pd.read_csv(\"/content/drive/Othercomputers/My MacBook Air/Recomender_Systems/Kaggle files/reco_rates - Feuille 1.csv\", header =1)"
      ],
      "metadata": {
        "id": "mebCvAj8InZ9"
      },
      "id": "mebCvAj8InZ9",
      "execution_count": 5,
      "outputs": []
    },
    {
      "cell_type": "code",
      "source": [
        "# Using the Surprise library with the different\n",
        "# The lower the RMSE / MSE the better"
      ],
      "metadata": {
        "id": "mdqpAQLSBVS3"
      },
      "id": "mdqpAQLSBVS3",
      "execution_count": null,
      "outputs": []
    },
    {
      "cell_type": "code",
      "source": [
        "from surprise import Dataset, Reader\n",
        "\n",
        "# Prepare the dataset for Surprise\n",
        "reader = Reader(rating_scale=(1, 10))\n",
        "\n",
        "data = Dataset.load_from_df(ratings_df[['user', 'item', 'rating']], reader)"
      ],
      "metadata": {
        "id": "J-HtxprTo3-w"
      },
      "id": "J-HtxprTo3-w",
      "execution_count": null,
      "outputs": []
    },
    {
      "cell_type": "code",
      "source": [
        "# Use SVD algorithm\n",
        "algo = SVD()\n",
        "\n",
        "# Split the data into training and test set\n",
        "trainset, testset = train_test_split(data, test_size=0.25)\n",
        "\n",
        "# Train the algorithm using the trainset\n",
        "algo.fit(trainset)\n",
        "\n",
        "# Predict ratings\n",
        "predictions = algo.test(testset)\n",
        "\n",
        "# Compute the Root Mean Squared Error and Mean Squared Error\n",
        "accuracy.rmse(predictions)\n",
        "accuracy.mse(predictions)"
      ],
      "metadata": {
        "id": "EVBfGWPemstx",
        "colab": {
          "base_uri": "https://localhost:8080/"
        },
        "outputId": "a4460e37-f431-442b-9626-eae8543be80f"
      },
      "id": "EVBfGWPemstx",
      "execution_count": null,
      "outputs": [
        {
          "output_type": "stream",
          "name": "stdout",
          "text": [
            "RMSE: 1.2331\n",
            "MSE: 1.5206\n"
          ]
        },
        {
          "output_type": "execute_result",
          "data": {
            "text/plain": [
              "1.5206381921896646"
            ]
          },
          "metadata": {},
          "execution_count": 31
        }
      ]
    },
    {
      "cell_type": "code",
      "source": [
        "# Use the KNNBasic algorithm\n",
        "algo = KNNBasic()\n",
        "\n",
        "# Train the algorithm on the trainset\n",
        "algo.fit(trainset)\n",
        "\n",
        "# Predict ratings\n",
        "predictions = algo.test(testset)\n",
        "\n",
        "# Compute the Root Mean Squared Error and Mean Squared Error\n",
        "accuracy.rmse(predictions)\n",
        "accuracy.mse(predictions)"
      ],
      "metadata": {
        "colab": {
          "base_uri": "https://localhost:8080/"
        },
        "id": "HzKKVorKU09V",
        "outputId": "65cd6cd4-af0e-4cd1-c3c5-ba0c89e50246"
      },
      "id": "HzKKVorKU09V",
      "execution_count": null,
      "outputs": [
        {
          "output_type": "stream",
          "name": "stdout",
          "text": [
            "Computing the msd similarity matrix...\n",
            "Done computing similarity matrix.\n",
            "RMSE: 1.3598\n",
            "MSE: 1.8491\n"
          ]
        },
        {
          "output_type": "execute_result",
          "data": {
            "text/plain": [
              "1.8491366018012765"
            ]
          },
          "metadata": {},
          "execution_count": 32
        }
      ]
    },
    {
      "cell_type": "code",
      "source": [
        "# Use the NMF algorithm\n",
        "algo = NMF()\n",
        "\n",
        "# Train the algorithm on the trainset\n",
        "algo.fit(trainset)\n",
        "\n",
        "# Predict ratings\n",
        "predictions = algo.test(testset)\n",
        "\n",
        "# Compute the Root Mean Squared Error and Mean Squared Error\n",
        "accuracy.rmse(predictions)\n",
        "accuracy.mse(predictions)"
      ],
      "metadata": {
        "colab": {
          "base_uri": "https://localhost:8080/"
        },
        "id": "rNiZvDriU3Wt",
        "outputId": "1abb2c64-e954-4e51-e0ec-38c4d521a4d6"
      },
      "id": "rNiZvDriU3Wt",
      "execution_count": null,
      "outputs": [
        {
          "output_type": "stream",
          "name": "stdout",
          "text": [
            "RMSE: 2.1210\n",
            "MSE: 4.4985\n"
          ]
        },
        {
          "output_type": "execute_result",
          "data": {
            "text/plain": [
              "4.498501411313473"
            ]
          },
          "metadata": {},
          "execution_count": 33
        }
      ]
    },
    {
      "cell_type": "code",
      "source": [
        "# Cross Validation and Grid Search"
      ],
      "metadata": {
        "id": "vCB7gWGkBbRA"
      },
      "id": "vCB7gWGkBbRA",
      "execution_count": null,
      "outputs": []
    },
    {
      "cell_type": "code",
      "source": [
        "# CROSS VALIDATION\n",
        "\n",
        "# Parameter grid\n",
        "param_grid = {\n",
        "    'n_epochs': [5, 10, 20, 30],\n",
        "    'lr_all': [0.002, 0.003, 0.005],\n",
        "    'reg_all': [0.4, 0.6]\n",
        "}\n",
        "\n",
        "# Perform grid search\n",
        "gs = GridSearchCV(SVD, param_grid, measures=['rmse', 'mse'], cv=5)\n",
        "gs.fit(data)\n",
        "\n",
        "# Best RMSE score\n",
        "print(gs.best_score['rmse'])\n",
        "\n",
        "# Lists the params with the best RMSE score\n",
        "print(gs.best_params['rmse'])"
      ],
      "metadata": {
        "colab": {
          "base_uri": "https://localhost:8080/"
        },
        "id": "U1F4vRIzyZvv",
        "outputId": "569111dd-afc3-422e-a394-7b2bc4745861"
      },
      "id": "U1F4vRIzyZvv",
      "execution_count": null,
      "outputs": [
        {
          "output_type": "stream",
          "name": "stdout",
          "text": [
            "1.3011919757945123\n",
            "{'n_epochs': 30, 'lr_all': 0.005, 'reg_all': 0.4}\n"
          ]
        }
      ]
    },
    {
      "cell_type": "code",
      "source": [
        "# Best MSE score\n",
        "print(\"Best MSE score:\", gs.best_score['mse'])\n",
        "\n",
        "# Lists the params with the best MSE score\n",
        "print(\"Best parameters for MSE:\", gs.best_params['mse'])"
      ],
      "metadata": {
        "colab": {
          "base_uri": "https://localhost:8080/"
        },
        "id": "z06_zK0z3Htk",
        "outputId": "04197e85-38c7-496f-9b9b-e137c565eea1"
      },
      "id": "z06_zK0z3Htk",
      "execution_count": null,
      "outputs": [
        {
          "output_type": "stream",
          "name": "stdout",
          "text": [
            "Best MSE score: 1.6931094456899298\n",
            "Best parameters for MSE: {'n_epochs': 30, 'lr_all': 0.005, 'reg_all': 0.4}\n"
          ]
        }
      ]
    },
    {
      "cell_type": "code",
      "source": [
        "# Use the NMF algorithm\n",
        "algo = NMF()\n",
        "\n",
        "# Perform cross validation\n",
        "results = cross_validate(algo, data, measures=['rmse', 'mse'], cv=5, verbose=True)"
      ],
      "metadata": {
        "colab": {
          "base_uri": "https://localhost:8080/"
        },
        "id": "Mx6p7ljj0qsP",
        "outputId": "ffb6c79e-8ad5-4eff-a9c7-c1909353c8af"
      },
      "id": "Mx6p7ljj0qsP",
      "execution_count": null,
      "outputs": [
        {
          "output_type": "stream",
          "name": "stdout",
          "text": [
            "Evaluating RMSE, MSE of algorithm NMF on 5 split(s).\n",
            "\n",
            "                  Fold 1  Fold 2  Fold 3  Fold 4  Fold 5  Mean    Std     \n",
            "RMSE (testset)    2.1245  2.1170  2.1153  2.1172  2.1288  2.1206  0.0052  \n",
            "MSE (testset)     4.5137  4.4819  4.4743  4.4827  4.5320  4.4969  0.0221  \n",
            "Fit time          13.71   14.98   14.90   16.69   15.99   15.25   1.02    \n",
            "Test time         0.48    1.44    1.25    1.25    1.31    1.15    0.34    \n"
          ]
        }
      ]
    },
    {
      "cell_type": "code",
      "source": [
        "# List of algorithms\n",
        "algos = [NMF(), SVD(), KNNBasic()]\n",
        "\n",
        "# Iterate over all algorithms\n",
        "for algo in algos:\n",
        "    # Perform cross-validation\n",
        "    results = cross_validate(algo, data, measures=['rmse', 'mse'], cv=5, verbose=True)\n",
        "\n",
        "    # Display results for each algorithm\n",
        "    print(\"Algorithm:\", algo.__class__.__name__)\n",
        "    print(\"Average RMSE:\", sum(results['test_rmse']) / 5)\n",
        "    print(\"Average MSE:\", sum(results['test_mse']) / 5)\n",
        "    print(\"\\n\")\n"
      ],
      "metadata": {
        "colab": {
          "base_uri": "https://localhost:8080/"
        },
        "id": "gVnFj08s356-",
        "outputId": "9bbf4d30-9f81-4c5e-8834-f45f96fa69b1"
      },
      "id": "gVnFj08s356-",
      "execution_count": null,
      "outputs": [
        {
          "output_type": "stream",
          "name": "stdout",
          "text": [
            "Evaluating RMSE, MSE of algorithm NMF on 5 split(s).\n",
            "\n",
            "                  Fold 1  Fold 2  Fold 3  Fold 4  Fold 5  Mean    Std     \n",
            "RMSE (testset)    2.1359  2.1121  2.1235  2.1248  2.1373  2.1267  0.0092  \n",
            "MSE (testset)     4.5621  4.4611  4.5092  4.5149  4.5680  4.5230  0.0391  \n",
            "Fit time          14.40   15.41   14.71   15.13   14.83   14.90   0.35    \n",
            "Test time         1.27    1.29    1.38    1.21    1.21    1.27    0.06    \n",
            "Algorithm: NMF\n",
            "Average RMSE: 2.1267254452877906\n",
            "Average MSE: 4.523045641069475\n",
            "\n",
            "\n",
            "Evaluating RMSE, MSE of algorithm SVD on 5 split(s).\n",
            "\n",
            "                  Fold 1  Fold 2  Fold 3  Fold 4  Fold 5  Mean    Std     \n",
            "RMSE (testset)    1.2250  1.2318  1.2372  1.2313  1.2336  1.2318  0.0040  \n",
            "MSE (testset)     1.5006  1.5174  1.5306  1.5161  1.5217  1.5173  0.0098  \n",
            "Fit time          7.33    7.02    7.46    7.31    7.41    7.30    0.15    \n",
            "Test time         1.42    1.35    1.36    1.39    1.41    1.39    0.03    \n",
            "Algorithm: SVD\n",
            "Average RMSE: 1.2317698917788529\n",
            "Average MSE: 1.5172727792838738\n",
            "\n",
            "\n",
            "Computing the msd similarity matrix...\n",
            "Done computing similarity matrix.\n",
            "Computing the msd similarity matrix...\n",
            "Done computing similarity matrix.\n",
            "Computing the msd similarity matrix...\n",
            "Done computing similarity matrix.\n",
            "Computing the msd similarity matrix...\n",
            "Done computing similarity matrix.\n",
            "Computing the msd similarity matrix...\n",
            "Done computing similarity matrix.\n",
            "Evaluating RMSE, MSE of algorithm KNNBasic on 5 split(s).\n",
            "\n",
            "                  Fold 1  Fold 2  Fold 3  Fold 4  Fold 5  Mean    Std     \n",
            "RMSE (testset)    1.3534  1.3568  1.3606  1.3494  1.3591  1.3559  0.0040  \n",
            "MSE (testset)     1.8318  1.8410  1.8511  1.8210  1.8472  1.8384  0.0109  \n",
            "Fit time          6.33    6.72    6.51    6.67    6.80    6.61    0.17    \n",
            "Test time         33.53   33.60   32.33   34.44   33.59   33.50   0.67    \n",
            "Algorithm: KNNBasic\n",
            "Average RMSE: 1.3558716782259577\n",
            "Average MSE: 1.8384041668638216\n",
            "\n",
            "\n"
          ]
        }
      ]
    },
    {
      "cell_type": "code",
      "source": [
        "import pandas as pd\n",
        "from collections import Counter\n",
        "\n",
        "def combine_df(df_reco:pd.DataFrame, df_comp:pd.DataFrame):\n",
        "    \"\"\"Combine the dataframe of our ratings and the dataframe of ratings, just load them\"\"\"\n",
        "    df_reco_comp = pd.concat([df_reco.iloc[:,:2],df_reco[df_reco.iloc[:,2].name]], axis=1).rename(columns={df_reco.iloc[:,2].name:'rating'}) #\n",
        "    df_reco_comp['user'] = df_reco.iloc[:,2].name #fill with name\n",
        "    for col in df_reco.iloc[:,3:]:\n",
        "        df_temp = pd.concat([df_reco.iloc[:,:2],df_reco[col]], axis=1).rename(columns={col:'rating'})\n",
        "        df_temp['user'] = col #fill with name\n",
        "        df_reco_comp = pd.concat([df_reco_comp, df_temp])\n",
        "    df_reco_comp = df_reco_comp.rename(columns={'id':'item'})\n",
        "\n",
        "    df_reco_comp = df_reco_comp.query('rating!=0') #filter animes that we dont know from our dataset\n",
        "    df_reco_comp['rating'] = df_reco_comp.rating.apply(lambda x: 1 if x== -1 else 2) #set the rating scale to 1 or 2 for our dataset\n",
        "    df_comp['rating'] = df_comp.rating.apply(lambda x: 1 if x<=5 else 2) #set the rating scale to 1 or 2 for the other dataset\n",
        "    return pd.concat([df_comp,df_reco_comp.loc[:,['user','item','rating']]], ignore_index=True)\n",
        "\n",
        "def compute_genres_stats(df:pd.DataFrame) -> dict:\n",
        "    \"\"\"Returns a dict with ratio for the genres in the Dataframe\"\"\"\n",
        "    count_genre = {}\n",
        "    for genre_list in df.Genres_list:\n",
        "        for genre in genre_list:\n",
        "            if genre not in count_genre.keys():\n",
        "                count_genre[genre]=0\n",
        "            count_genre[genre]+=1\n",
        "    for genre, count in count_genre.items():\n",
        "        count_genre[genre] = count/len(df)\n",
        "    return count_genre\n",
        "\n",
        "    # alt one-line version\n",
        "    # return {k:v/len(df) for k,v in dict(Counter([genre for genre_list in df.Genres_list for genre in genre_list])).items()}\n",
        "\n",
        "def genres_for_playlists(genre_personal:dict, genre_global:dict) -> dict:\n",
        "    \"\"\"Returns a dict ordered by the difference between ratios of the presences of genres in two dict.\n",
        "\n",
        "    First dict should be the dict for which we want to make playlists for.\"\"\"\n",
        "    genres_diff = {}\n",
        "    for genre, ratio in genre_personal.items():\n",
        "        genres_diff[genre] = ratio-genre_global[genre]\n",
        "    return dict(sorted(genres_diff.items(), key=lambda x: x[1], reverse=True))"
      ],
      "metadata": {
        "id": "HZBn8rB84vDW"
      },
      "id": "HZBn8rB84vDW",
      "execution_count": 6,
      "outputs": []
    },
    {
      "cell_type": "code",
      "source": [
        "from surprise import Dataset, Reader\n",
        "\n",
        "df_full = combine_df(df_reco, ratings_df)\n",
        "reader = Reader(rating_scale=(1,2))\n",
        "data = Dataset.load_from_df(df_full, reader)"
      ],
      "metadata": {
        "colab": {
          "base_uri": "https://localhost:8080/"
        },
        "id": "vQpzK5u98VLj",
        "outputId": "7c624e92-5cce-4a6a-c678-c2fe593c7c90"
      },
      "id": "vQpzK5u98VLj",
      "execution_count": 7,
      "outputs": [
        {
          "output_type": "stream",
          "name": "stderr",
          "text": [
            "<ipython-input-6-18ed7f8c2fc6>:15: SettingWithCopyWarning: \n",
            "A value is trying to be set on a copy of a slice from a DataFrame.\n",
            "Try using .loc[row_indexer,col_indexer] = value instead\n",
            "\n",
            "See the caveats in the documentation: https://pandas.pydata.org/pandas-docs/stable/user_guide/indexing.html#returning-a-view-versus-a-copy\n",
            "  df_reco_comp['rating'] = df_reco_comp.rating.apply(lambda x: 1 if x== -1 else 2) #set the rating scale to 1 or 2 for our dataset\n"
          ]
        }
      ]
    },
    {
      "cell_type": "code",
      "source": [
        "from surprise.model_selection import KFold\n",
        "# Class that combine Gridsearch and Cross Validating function\n",
        "\n",
        "class GridSearchCrossValidation:\n",
        "    def __init__(self, algo_classes, param_grid, data, measures=['rmse', 'mse'], cv_strategy=KFold(n_splits=5), verbose=False):\n",
        "        self.algo_classes = algo_classes\n",
        "        self.param_grid = param_grid\n",
        "        self.data = data\n",
        "        self.measures = measures\n",
        "        self.cv_strategy = cv_strategy\n",
        "        self.verbose = verbose\n",
        "        self.results = []\n",
        "\n",
        "# Grid search method\n",
        "    def grid_search(self):\n",
        "        for algo_class in self.algo_classes:\n",
        "            try:\n",
        "                gs = GridSearchCV(algo_class, self.param_grid, measures=self.measures, cv=self.cv_strategy)\n",
        "                gs.fit(self.data)\n",
        "\n",
        "                result = {\n",
        "                    'Algorithm': algo_class.__name__,\n",
        "                    'Best Score': {measure: gs.best_score[measure] for measure in self.measures},\n",
        "                    'Best Params': {measure: gs.best_params[measure] for measure in self.measures}\n",
        "                }\n",
        "                self.results.append(result)\n",
        "\n",
        "                if self.verbose:\n",
        "                    print(result)\n",
        "\n",
        "            except Exception as e:\n",
        "                print(f\"Error processing {algo_class.__name__}: {str(e)}\")\n",
        "\n",
        "# Cross Validation method\n",
        "    def cross_validate(self):\n",
        "        for algo_class in self.algo_classes:\n",
        "            try:\n",
        "                algo = algo_class()\n",
        "                results = cross_validate(algo, self.data, measures=self.measures, cv=self.cv_strategy, verbose=self.verbose)\n",
        "                avg_results = {f'Average {measure}': sum(results[f'test_{measure}']) / len(results[f'test_{measure}']) for measure in self.measures}\n",
        "\n",
        "                result = {\n",
        "                    'Algorithm': algo_class.__name__,\n",
        "                    'Cross-validation Results': avg_results\n",
        "                }\n",
        "                self.results.append(result)\n",
        "\n",
        "                if self.verbose:\n",
        "                    print(result)\n",
        "\n",
        "            except Exception as e:\n",
        "                print(f\"Error processing {algo_class.__name__}: {str(e)}\")\n",
        "\n",
        "# To call both methods and run\n",
        "    def run(self):\n",
        "        self.grid_search()\n",
        "        self.cross_validate()\n",
        "        return pd.DataFrame(self.results)\n",
        "\n",
        "# Global variables\n",
        "algo_classes = [NMF, SVD, KNNBasic]\n",
        "param_grid = {\n",
        "    'n_epochs': [5, 10, 20, 30],\n",
        "    'lr_all': [0.002, 0.003, 0.005],\n",
        "    'reg_all': [0.4, 0.6]\n",
        "}\n",
        "\n",
        "# Instantiating and initialization of class\n",
        "gs_cv = GridSearchCrossValidation(algo_classes, param_grid, data, verbose=True)\n",
        "results_df = gs_cv.run()\n"
      ],
      "metadata": {
        "colab": {
          "base_uri": "https://localhost:8080/"
        },
        "id": "Efe9wgE6BFR1",
        "outputId": "45a2809d-b937-4dbd-c12e-20261e7dc981"
      },
      "id": "Efe9wgE6BFR1",
      "execution_count": null,
      "outputs": [
        {
          "output_type": "stream",
          "name": "stdout",
          "text": [
            "Error processing NMF: __init__() got an unexpected keyword argument 'lr_all'\n",
            "{'Algorithm': 'SVD', 'Best Score': {'rmse': 0.27255765762911865, 'mse': 0.07428966519869071}, 'Best Params': {'rmse': {'n_epochs': 30, 'lr_all': 0.005, 'reg_all': 0.4}, 'mse': {'n_epochs': 30, 'lr_all': 0.005, 'reg_all': 0.4}}}\n",
            "Computing the msd similarity matrix...\n",
            "Done computing similarity matrix.\n",
            "Computing the msd similarity matrix...\n",
            "Done computing similarity matrix.\n",
            "Computing the msd similarity matrix...\n",
            "Done computing similarity matrix.\n",
            "Computing the msd similarity matrix...\n",
            "Done computing similarity matrix.\n",
            "Computing the msd similarity matrix...\n",
            "Done computing similarity matrix.\n",
            "Computing the msd similarity matrix...\n",
            "Done computing similarity matrix.\n",
            "Computing the msd similarity matrix...\n",
            "Done computing similarity matrix.\n",
            "Computing the msd similarity matrix...\n",
            "Done computing similarity matrix.\n",
            "Computing the msd similarity matrix...\n",
            "Done computing similarity matrix.\n",
            "Computing the msd similarity matrix...\n",
            "Done computing similarity matrix.\n",
            "Computing the msd similarity matrix...\n",
            "Done computing similarity matrix.\n",
            "Computing the msd similarity matrix...\n",
            "Done computing similarity matrix.\n",
            "Computing the msd similarity matrix...\n",
            "Done computing similarity matrix.\n",
            "Computing the msd similarity matrix...\n",
            "Done computing similarity matrix.\n",
            "Computing the msd similarity matrix...\n",
            "Done computing similarity matrix.\n",
            "Computing the msd similarity matrix...\n",
            "Done computing similarity matrix.\n",
            "Computing the msd similarity matrix...\n",
            "Done computing similarity matrix.\n",
            "Computing the msd similarity matrix...\n",
            "Done computing similarity matrix.\n",
            "Computing the msd similarity matrix...\n",
            "Done computing similarity matrix.\n",
            "Computing the msd similarity matrix...\n",
            "Done computing similarity matrix.\n",
            "Computing the msd similarity matrix...\n",
            "Done computing similarity matrix.\n",
            "Computing the msd similarity matrix...\n",
            "Done computing similarity matrix.\n",
            "Computing the msd similarity matrix...\n",
            "Done computing similarity matrix.\n",
            "Computing the msd similarity matrix...\n",
            "Done computing similarity matrix.\n",
            "Computing the msd similarity matrix...\n",
            "Done computing similarity matrix.\n",
            "Computing the msd similarity matrix...\n",
            "Done computing similarity matrix.\n",
            "Computing the msd similarity matrix...\n",
            "Done computing similarity matrix.\n",
            "Computing the msd similarity matrix...\n",
            "Done computing similarity matrix.\n",
            "Computing the msd similarity matrix...\n",
            "Done computing similarity matrix.\n",
            "Computing the msd similarity matrix...\n",
            "Done computing similarity matrix.\n",
            "Computing the msd similarity matrix...\n",
            "Done computing similarity matrix.\n",
            "Computing the msd similarity matrix...\n",
            "Done computing similarity matrix.\n",
            "Computing the msd similarity matrix...\n",
            "Done computing similarity matrix.\n",
            "Computing the msd similarity matrix...\n",
            "Done computing similarity matrix.\n",
            "Computing the msd similarity matrix...\n",
            "Done computing similarity matrix.\n",
            "Computing the msd similarity matrix...\n",
            "Done computing similarity matrix.\n",
            "Computing the msd similarity matrix...\n",
            "Done computing similarity matrix.\n",
            "Computing the msd similarity matrix...\n",
            "Done computing similarity matrix.\n",
            "Computing the msd similarity matrix...\n",
            "Done computing similarity matrix.\n",
            "Computing the msd similarity matrix...\n",
            "Done computing similarity matrix.\n",
            "Computing the msd similarity matrix...\n",
            "Done computing similarity matrix.\n",
            "Computing the msd similarity matrix...\n",
            "Done computing similarity matrix.\n",
            "Computing the msd similarity matrix...\n",
            "Done computing similarity matrix.\n",
            "Computing the msd similarity matrix...\n",
            "Done computing similarity matrix.\n",
            "Computing the msd similarity matrix...\n",
            "Done computing similarity matrix.\n",
            "Computing the msd similarity matrix...\n",
            "Done computing similarity matrix.\n",
            "Computing the msd similarity matrix...\n",
            "Done computing similarity matrix.\n",
            "Computing the msd similarity matrix...\n",
            "Done computing similarity matrix.\n",
            "Computing the msd similarity matrix...\n",
            "Done computing similarity matrix.\n",
            "Computing the msd similarity matrix...\n",
            "Done computing similarity matrix.\n",
            "Computing the msd similarity matrix...\n",
            "Done computing similarity matrix.\n",
            "Computing the msd similarity matrix...\n",
            "Done computing similarity matrix.\n",
            "Computing the msd similarity matrix...\n",
            "Done computing similarity matrix.\n",
            "Computing the msd similarity matrix...\n",
            "Done computing similarity matrix.\n",
            "Computing the msd similarity matrix...\n",
            "Done computing similarity matrix.\n",
            "Computing the msd similarity matrix...\n",
            "Done computing similarity matrix.\n",
            "Computing the msd similarity matrix...\n",
            "Done computing similarity matrix.\n",
            "Computing the msd similarity matrix...\n",
            "Done computing similarity matrix.\n",
            "Computing the msd similarity matrix...\n",
            "Done computing similarity matrix.\n",
            "Computing the msd similarity matrix...\n",
            "Done computing similarity matrix.\n",
            "Computing the msd similarity matrix...\n",
            "Done computing similarity matrix.\n",
            "Computing the msd similarity matrix...\n",
            "Done computing similarity matrix.\n",
            "Computing the msd similarity matrix...\n",
            "Done computing similarity matrix.\n",
            "Computing the msd similarity matrix...\n",
            "Done computing similarity matrix.\n",
            "Computing the msd similarity matrix...\n",
            "Done computing similarity matrix.\n",
            "Computing the msd similarity matrix...\n",
            "Done computing similarity matrix.\n",
            "Computing the msd similarity matrix...\n",
            "Done computing similarity matrix.\n",
            "Computing the msd similarity matrix...\n",
            "Done computing similarity matrix.\n",
            "Computing the msd similarity matrix...\n",
            "Done computing similarity matrix.\n",
            "Computing the msd similarity matrix...\n",
            "Done computing similarity matrix.\n",
            "Computing the msd similarity matrix...\n",
            "Done computing similarity matrix.\n",
            "Computing the msd similarity matrix...\n",
            "Done computing similarity matrix.\n",
            "Computing the msd similarity matrix...\n",
            "Done computing similarity matrix.\n",
            "Computing the msd similarity matrix...\n",
            "Done computing similarity matrix.\n",
            "Computing the msd similarity matrix...\n",
            "Done computing similarity matrix.\n",
            "Computing the msd similarity matrix...\n",
            "Done computing similarity matrix.\n",
            "Computing the msd similarity matrix...\n",
            "Done computing similarity matrix.\n",
            "Computing the msd similarity matrix...\n",
            "Done computing similarity matrix.\n",
            "Computing the msd similarity matrix...\n",
            "Done computing similarity matrix.\n",
            "Computing the msd similarity matrix...\n",
            "Done computing similarity matrix.\n",
            "Computing the msd similarity matrix...\n",
            "Done computing similarity matrix.\n",
            "Computing the msd similarity matrix...\n",
            "Done computing similarity matrix.\n",
            "Computing the msd similarity matrix...\n",
            "Done computing similarity matrix.\n",
            "Computing the msd similarity matrix...\n",
            "Done computing similarity matrix.\n",
            "Computing the msd similarity matrix...\n",
            "Done computing similarity matrix.\n",
            "Computing the msd similarity matrix...\n",
            "Done computing similarity matrix.\n",
            "Computing the msd similarity matrix...\n",
            "Done computing similarity matrix.\n",
            "Computing the msd similarity matrix...\n",
            "Done computing similarity matrix.\n",
            "Computing the msd similarity matrix...\n",
            "Done computing similarity matrix.\n",
            "Computing the msd similarity matrix...\n",
            "Done computing similarity matrix.\n",
            "Computing the msd similarity matrix...\n",
            "Done computing similarity matrix.\n",
            "Computing the msd similarity matrix...\n",
            "Done computing similarity matrix.\n",
            "Computing the msd similarity matrix...\n",
            "Done computing similarity matrix.\n",
            "Computing the msd similarity matrix...\n",
            "Done computing similarity matrix.\n",
            "Computing the msd similarity matrix...\n",
            "Done computing similarity matrix.\n",
            "Computing the msd similarity matrix...\n",
            "Done computing similarity matrix.\n",
            "Computing the msd similarity matrix...\n",
            "Done computing similarity matrix.\n",
            "Computing the msd similarity matrix...\n",
            "Done computing similarity matrix.\n",
            "Computing the msd similarity matrix...\n",
            "Done computing similarity matrix.\n",
            "Computing the msd similarity matrix...\n",
            "Done computing similarity matrix.\n",
            "Computing the msd similarity matrix...\n",
            "Done computing similarity matrix.\n",
            "Computing the msd similarity matrix...\n",
            "Done computing similarity matrix.\n",
            "Computing the msd similarity matrix...\n",
            "Done computing similarity matrix.\n",
            "Computing the msd similarity matrix...\n",
            "Done computing similarity matrix.\n"
          ]
        }
      ]
    },
    {
      "cell_type": "code",
      "source": [
        "from surprise import Dataset, Reader, SVD, KNNBasic, NMF\n",
        "from surprise.model_selection import GridSearchCV\n",
        "\n",
        "# Function to combine Gridsearch and Cross validation using RMSE and MSE\n",
        "\n",
        "def GridSearchCrossValidationMSE(data):\n",
        "    # Define the algorithms and their unique parameters\n",
        "    param_grid = {\n",
        "        'SVD': {'n_epochs': [5, 10, 20, 30], 'lr_all': [0.002, 0.003, 0.005], 'reg_all': [0.02, 0.05]},\n",
        "        'KNNBasic': {'k': [20, 30, 50], 'min_k': [1, 5]},\n",
        "        'NMF': {'n_epochs': [5, 10, 20], 'n_factors': [15, 20, 25]}\n",
        "    }\n",
        "\n",
        "    # RMSE and MSE evaluation metrics\n",
        "    metrics = ['rmse', 'mse']\n",
        "\n",
        "    # Grid search with cross-validation for each algorithm\n",
        "    for algo_name in param_grid:\n",
        "        print(f\"Evaluating {algo_name}...\")\n",
        "        gs = GridSearchCV(eval(algo_name), param_grid[algo_name], measures=metrics, cv=5)\n",
        "        gs.fit(data)\n",
        "\n",
        "        # Print best score and parameters\n",
        "        print(f\"Best RMSE for {algo_name}: {gs.best_score['rmse']}\")\n",
        "        print(f\"Best MSE for {algo_name}: {gs.best_score['mse']}\")\n",
        "        print(f\"Best Parameters for {algo_name}: {gs.best_params['rmse']}\")\n",
        "\n",
        "# Apply function\n",
        "GridSearchCrossValidationMSE(data)"
      ],
      "metadata": {
        "colab": {
          "base_uri": "https://localhost:8080/"
        },
        "id": "As3Gae5te7TZ",
        "outputId": "12c033d8-46a3-4b20-a8fd-a777280ac112"
      },
      "id": "As3Gae5te7TZ",
      "execution_count": 9,
      "outputs": [
        {
          "output_type": "stream",
          "name": "stdout",
          "text": [
            "Evaluating SVD...\n",
            "Best RMSE for SVD: 0.26909719499398504\n",
            "Best MSE for SVD: 0.07241337779907109\n",
            "Best Parameters for SVD: {'n_epochs': 30, 'lr_all': 0.005, 'reg_all': 0.05}\n",
            "Evaluating KNNBasic...\n",
            "Computing the msd similarity matrix...\n",
            "Done computing similarity matrix.\n",
            "Computing the msd similarity matrix...\n",
            "Done computing similarity matrix.\n",
            "Computing the msd similarity matrix...\n",
            "Done computing similarity matrix.\n",
            "Computing the msd similarity matrix...\n",
            "Done computing similarity matrix.\n",
            "Computing the msd similarity matrix...\n",
            "Done computing similarity matrix.\n",
            "Computing the msd similarity matrix...\n",
            "Done computing similarity matrix.\n",
            "Computing the msd similarity matrix...\n",
            "Done computing similarity matrix.\n",
            "Computing the msd similarity matrix...\n",
            "Done computing similarity matrix.\n",
            "Computing the msd similarity matrix...\n",
            "Done computing similarity matrix.\n",
            "Computing the msd similarity matrix...\n",
            "Done computing similarity matrix.\n",
            "Computing the msd similarity matrix...\n",
            "Done computing similarity matrix.\n",
            "Computing the msd similarity matrix...\n",
            "Done computing similarity matrix.\n",
            "Computing the msd similarity matrix...\n",
            "Done computing similarity matrix.\n",
            "Computing the msd similarity matrix...\n",
            "Done computing similarity matrix.\n",
            "Computing the msd similarity matrix...\n",
            "Done computing similarity matrix.\n",
            "Computing the msd similarity matrix...\n",
            "Done computing similarity matrix.\n",
            "Computing the msd similarity matrix...\n",
            "Done computing similarity matrix.\n",
            "Computing the msd similarity matrix...\n",
            "Done computing similarity matrix.\n",
            "Best RMSE for KNNBasic: 0.29393891515474224\n",
            "Best MSE for KNNBasic: 0.08640034260631717\n",
            "Best Parameters for KNNBasic: {'k': 30, 'min_k': 5}\n",
            "Evaluating NMF...\n",
            "Best RMSE for NMF: 0.2908554945839408\n",
            "Best MSE for NMF: 0.08459713732219487\n",
            "Best Parameters for NMF: {'n_epochs': 20, 'n_factors': 15}\n"
          ]
        }
      ]
    },
    {
      "cell_type": "code",
      "source": [
        "from surprise import Dataset, Reader, SVD, KNNBasic, NMF\n",
        "from surprise.model_selection import cross_validate, GridSearchCV\n",
        "\n",
        "\n",
        "# Function to combine Gridsearch and Cross validation using RMSE and MAE\n",
        "\n",
        "def GridSearchCrossValidationMAE(data):\n",
        "    # Dictionary of algorithms to be used\n",
        "    algorithms = {\n",
        "        'SVD': SVD,\n",
        "        'KNNBasic': KNNBasic,\n",
        "        'NMF': NMF\n",
        "    }\n",
        "\n",
        "    # Unique parameters for each algorithm\n",
        "    param_grid = {\n",
        "        'SVD': {'n_epochs': [5, 10, 20, 30], 'lr_all': [0.002, 0.003, 0.005]},\n",
        "        'KNNBasic': {'k': [20, 30, 50], 'min_k': [1, 5]},\n",
        "        'NMF': {'n_epochs': [5, 10, 20, 30], 'n_factors': [15, 20, 25]}\n",
        "    }\n",
        "\n",
        "    # Loop over the algorithms\n",
        "    for name, algo in algorithms.items():\n",
        "        gs = GridSearchCV(algo, param_grid[name], measures=['rmse', 'mae'], cv=5)\n",
        "        gs.fit(data)\n",
        "\n",
        "        # Print best score and parameters\n",
        "        print(f\"Best Score for {name}: {gs.best_score['rmse']}\")\n",
        "        print(f\"Best Parameters for {name}: {gs.best_params['rmse']}\")\n",
        "\n",
        "# Apply function to dataset\n",
        "GridSearchCrossValidationMAE(data)\n"
      ],
      "metadata": {
        "id": "w3qXgr-yBz7S",
        "colab": {
          "base_uri": "https://localhost:8080/"
        },
        "outputId": "5719bf3e-554d-436c-83c0-3031f107aec5"
      },
      "id": "w3qXgr-yBz7S",
      "execution_count": 10,
      "outputs": [
        {
          "output_type": "stream",
          "name": "stdout",
          "text": [
            "Best Score for SVD: 0.2689598363983512\n",
            "Best Parameters for SVD: {'n_epochs': 30, 'lr_all': 0.005}\n",
            "Computing the msd similarity matrix...\n",
            "Done computing similarity matrix.\n",
            "Computing the msd similarity matrix...\n",
            "Done computing similarity matrix.\n",
            "Computing the msd similarity matrix...\n",
            "Done computing similarity matrix.\n",
            "Computing the msd similarity matrix...\n",
            "Done computing similarity matrix.\n",
            "Computing the msd similarity matrix...\n",
            "Done computing similarity matrix.\n",
            "Computing the msd similarity matrix...\n",
            "Done computing similarity matrix.\n",
            "Computing the msd similarity matrix...\n",
            "Done computing similarity matrix.\n",
            "Computing the msd similarity matrix...\n",
            "Done computing similarity matrix.\n",
            "Computing the msd similarity matrix...\n",
            "Done computing similarity matrix.\n",
            "Computing the msd similarity matrix...\n",
            "Done computing similarity matrix.\n",
            "Computing the msd similarity matrix...\n",
            "Done computing similarity matrix.\n",
            "Computing the msd similarity matrix...\n",
            "Done computing similarity matrix.\n",
            "Computing the msd similarity matrix...\n",
            "Done computing similarity matrix.\n",
            "Computing the msd similarity matrix...\n",
            "Done computing similarity matrix.\n",
            "Computing the msd similarity matrix...\n",
            "Done computing similarity matrix.\n",
            "Computing the msd similarity matrix...\n",
            "Done computing similarity matrix.\n",
            "Computing the msd similarity matrix...\n",
            "Done computing similarity matrix.\n",
            "Computing the msd similarity matrix...\n",
            "Done computing similarity matrix.\n",
            "Computing the msd similarity matrix...\n",
            "Done computing similarity matrix.\n",
            "Computing the msd similarity matrix...\n",
            "Done computing similarity matrix.\n",
            "Computing the msd similarity matrix...\n",
            "Done computing similarity matrix.\n",
            "Computing the msd similarity matrix...\n",
            "Done computing similarity matrix.\n",
            "Computing the msd similarity matrix...\n",
            "Done computing similarity matrix.\n",
            "Computing the msd similarity matrix...\n",
            "Done computing similarity matrix.\n",
            "Computing the msd similarity matrix...\n",
            "Done computing similarity matrix.\n",
            "Computing the msd similarity matrix...\n",
            "Done computing similarity matrix.\n",
            "Computing the msd similarity matrix...\n",
            "Done computing similarity matrix.\n",
            "Computing the msd similarity matrix...\n",
            "Done computing similarity matrix.\n",
            "Computing the msd similarity matrix...\n",
            "Done computing similarity matrix.\n",
            "Computing the msd similarity matrix...\n",
            "Done computing similarity matrix.\n",
            "Best Score for KNNBasic: 0.29238087432910137\n",
            "Best Parameters for KNNBasic: {'k': 30, 'min_k': 5}\n",
            "Best Score for NMF: 0.2753610644363339\n",
            "Best Parameters for NMF: {'n_epochs': 30, 'n_factors': 15}\n"
          ]
        }
      ]
    }
  ],
  "metadata": {
    "colab": {
      "provenance": [],
      "machine_shape": "hm"
    },
    "language_info": {
      "name": "python"
    },
    "kernelspec": {
      "name": "python3",
      "display_name": "Python 3"
    }
  },
  "nbformat": 4,
  "nbformat_minor": 5
}