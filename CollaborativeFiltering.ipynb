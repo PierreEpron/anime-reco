{
 "cells": [
  {
   "cell_type": "code",
   "execution_count": 1,
   "id": "45b38099",
   "metadata": {},
   "outputs": [],
   "source": [
    "#install the surprise \n",
    "# pip install scikit-surpriseimport os\n",
    "import pandas as pd # use dataframes, for data analysis \n",
    "import numpy as np\n",
    "import matplotlib.pyplot as plt\n",
    "import seaborn as sns\n",
    "\n",
    "from surprise import Dataset,Reader\n",
    "from surprise.model_selection import cross_validate"
   ]
  },
  {
   "cell_type": "code",
   "execution_count": 2,
   "id": "66b687ba",
   "metadata": {},
   "outputs": [],
   "source": [
    "#several datasets predefined in surprise, here we user ml-100k\n",
    "# data is a Dataset object\n",
    "# predefined dataset\n",
    "#data = Dataset.load_builtin(\"ml-100k\")\n",
    "\n",
    "# If we want to load another dataset\n",
    "df = pd.read_csv('ml-100k/u.data',sep = '\\t',usecols = range(3),header = None, names=('user', 'item', 'rating')) # load the 3 first columns\n",
    "#df = pd.read_csv('u1.base',sep = '\\t',usecols = range(3),header = None) # load the 3 first columns\n",
    "\n",
    "# A reader is needed with the rating_scale param required.\n",
    "reader = Reader(rating_scale=(1, 5))\n",
    "# load data in a dataframe\n",
    "data = Dataset.load_from_df(df, reader)\n"
   ]
  },
  {
   "cell_type": "code",
   "execution_count": 3,
   "id": "e574078a",
   "metadata": {},
   "outputs": [
    {
     "name": "stderr",
     "output_type": "stream",
     "text": [
      "/var/folders/64/chbxlf3930q0dq8nvm1t1g980000gp/T/ipykernel_43181/243332793.py:6: UserWarning: FixedFormatter should only be used together with FixedLocator\n",
      "  ax.set_yticklabels([num for num in ax.get_yticks()])\n"
     ]
    },
    {
     "data": {
      "image/png": "[encoded data removed]",
      "text/plain": [
       "<Figure size 1000x600 with 1 Axes>"
      ]
     },
     "metadata": {},
     "output_type": "display_data"
    },
    {
     "name": "stdout",
     "output_type": "stream",
     "text": [
      "the number of ratings is 100000\n",
      "the average rating value is  3.52986\n",
      "sparsity is  93.69533063577546\n"
     ]
    }
   ],
   "source": [
    "# statistics about the dataset\n",
    "\n",
    "# display the distribution of ratings\n",
    "plt.figure(figsize = (10, 6))\n",
    "ax = sns.countplot(x=df['rating'], data=df)\n",
    "ax.set_yticklabels([num for num in ax.get_yticks()])\n",
    "plt.tick_params(labelsize = 10)\n",
    "plt.title(\"Distribution of Ratings in the dataset\", fontsize = 12)\n",
    "plt.xlabel(\"Ratings\", fontsize = 12)\n",
    "plt.ylabel(\"Number of Ratings\", fontsize = 12)\n",
    "plt.show()\n",
    "\n",
    "print(\"the number of ratings is\",df.shape[0])\n",
    "print(\"the average rating value is \",df['rating'].mean())\n",
    "print(\"sparsity is \",100-(df.shape[0]/(df['item'].max()*df['user'].max())*100))\n",
    "\n"
   ]
  },
  {
   "cell_type": "code",
   "execution_count": 4,
   "id": "9dfec721",
   "metadata": {},
   "outputs": [],
   "source": [
    "#collaborative filtering\n",
    "#memory-based approach\n",
    "from surprise import KNNBasic,KNNWithMeans,accuracy\n",
    "from surprise.model_selection import train_test_split\n",
    "\n",
    "# split dataset into 80% train and 20% test\n",
    "trainset, testset=train_test_split(data, test_size=0.2)"
   ]
  },
  {
   "cell_type": "code",
   "execution_count": 5,
   "id": "11189483",
   "metadata": {},
   "outputs": [
    {
     "name": "stdout",
     "output_type": "stream",
     "text": [
      "Computing the cosine similarity matrix...\n",
      "Done computing similarity matrix.\n",
      "RMSE: 1.0257\n",
      "MAE:  0.8091\n",
      "Computing the cosine similarity matrix...\n",
      "Done computing similarity matrix.\n",
      "RMSE: 1.0185\n",
      "MAE:  0.8050\n"
     ]
    },
    {
     "data": {
      "text/plain": [
       "0.805020382667566"
      ]
     },
     "execution_count": 5,
     "metadata": {},
     "output_type": "execute_result"
    }
   ],
   "source": [
    "#user-based Cosine\n",
    "sim_options = {\n",
    "    \"user_based\": True,  # compute  similarities between users\n",
    "    \"name\":\"cosine\"\n",
    "}\n",
    "\n",
    "# With K=20 neighbors\n",
    "algo = KNNBasic(sim_options=sim_options,k=20, min_k=5) #default value of k is 40\n",
    " \n",
    "#cv=cross_validate(algo, data, measures=[\"RMSE\", \"MAE\"], cv=5, return_train_measures=True, verbose=True)\n",
    "algo.fit(trainset) # compute similarities\n",
    "predictions = algo.test(testset)\n",
    "accuracy.rmse(predictions)\n",
    "accuracy.mae(predictions)\n",
    "\n",
    "# Let us make K change K=40\n",
    "algo = KNNBasic(sim_options=sim_options,k=40, min_k=5) #default value of k is 40\n",
    "algo.fit(trainset)\n",
    "predictions = algo.test(testset)\n",
    "accuracy.rmse(predictions)\n",
    "accuracy.mae(predictions)"
   ]
  },
  {
   "cell_type": "code",
   "execution_count": 6,
   "id": "c43c2673",
   "metadata": {},
   "outputs": [
    {
     "name": "stdout",
     "output_type": "stream",
     "text": [
      "Computing the pearson similarity matrix...\n",
      "Done computing similarity matrix.\n",
      "RMSE: 0.9470\n",
      "MAE:  0.7418\n"
     ]
    },
    {
     "data": {
      "text/plain": [
       "0.7417669747824345"
      ]
     },
     "execution_count": 6,
     "metadata": {},
     "output_type": "execute_result"
    }
   ],
   "source": [
    "#user-based Pearson\n",
    "sim_options = {\n",
    "    \"user_based\": True,  # compute  similarities between users\n",
    "    \"name\":\"pearson\"\n",
    "}\n",
    "algo = KNNWithMeans(sim_options=sim_options,k=40, min_k=5) #default value of k is 40\n",
    "\n",
    "\n",
    "# \n",
    "#cv=cross_validate(algo, data, measures=[\"RMSE\", \"MAE\"], cv=5, return_train_measures=True, verbose=True)\n",
    "algo.fit(trainset)\n",
    "predictions = algo.test(testset)\n",
    "accuracy.rmse(predictions)\n",
    "accuracy.mae(predictions)"
   ]
  },
  {
   "cell_type": "code",
   "execution_count": 105,
   "id": "b14a1d53",
   "metadata": {},
   "outputs": [
    {
     "name": "stdout",
     "output_type": "stream",
     "text": [
      "Computing the cosine similarity matrix...\n",
      "Done computing similarity matrix.\n",
      "RMSE: 1.0232\n",
      "MAE:  0.8123\n"
     ]
    },
    {
     "data": {
      "text/plain": [
       "0.8123362671636754"
      ]
     },
     "execution_count": 105,
     "metadata": {},
     "output_type": "execute_result"
    }
   ],
   "source": [
    "#item-based (Cosine)\n",
    "sim_options = {\n",
    "    \"user_based\": False,  # compute  similarities between users\n",
    "    \"name\":\"cosine\"\n",
    "}\n",
    "algo = KNNBasic(sim_options=sim_options,k=40, min_k=5) #default value of k is 40\n",
    "# \n",
    "#cv=cross_validate(algo, data, measures=[\"RMSE\", \"MAE\"], cv=5, return_train_measures=True, verbose=True)\n",
    "algo.fit(trainset)\n",
    "predictions = algo.test(testset)\n",
    "accuracy.rmse(predictions)\n",
    "accuracy.mae(predictions)"
   ]
  },
  {
   "cell_type": "code",
   "execution_count": 9,
   "id": "abff072b",
   "metadata": {},
   "outputs": [
    {
     "name": "stdout",
     "output_type": "stream",
     "text": [
      "Computing the pearson similarity matrix...\n",
      "Done computing similarity matrix.\n",
      "Computing the pearson similarity matrix...\n",
      "Done computing similarity matrix.\n",
      "Computing the pearson similarity matrix...\n",
      "Done computing similarity matrix.\n",
      "Computing the pearson similarity matrix...\n",
      "Done computing similarity matrix.\n",
      "Computing the pearson similarity matrix...\n",
      "Done computing similarity matrix.\n",
      "Evaluating RMSE, MAE of algorithm KNNBasic on 5 split(s).\n",
      "\n",
      "                  Fold 1  Fold 2  Fold 3  Fold 4  Fold 5  Mean    Std     \n",
      "RMSE (testset)    1.0293  1.0230  1.0331  1.0302  1.0279  1.0287  0.0033  \n",
      "MAE (testset)     0.8189  0.8124  0.8224  0.8206  0.8171  0.8183  0.0034  \n",
      "Fit time          0.46    0.44    0.44    0.45    0.45    0.45    0.01    \n",
      "Test time         3.26    2.63    2.57    2.62    2.54    2.72    0.27    \n"
     ]
    }
   ],
   "source": [
    "# user-based with Pearson and cross-validation\n",
    "sim_options = {\n",
    "    \"name\": \"pearson\",\n",
    "    \"user_based\": True,  # compute  similarities between items\n",
    "}\n",
    "algo = KNNBasic(sim_options=sim_options, k=40,min_k=20)\n",
    "cv=cross_validate(algo, data, measures=[\"RMSE\", \"MAE\"], cv=5, verbose=True)"
   ]
  },
  {
   "cell_type": "code",
   "execution_count": 10,
   "id": "144b39cd",
   "metadata": {},
   "outputs": [
    {
     "data": {
      "image/png": "[encoded data removed]",
      "text/plain": [
       "<Figure size 1000x500 with 1 Axes>"
      ]
     },
     "metadata": {},
     "output_type": "display_data"
    }
   ],
   "source": [
    "# Visualize\n",
    "import matplotlib.pyplot as plt\n",
    "\n",
    "rmse = cv['test_rmse']\n",
    "mae = cv['test_mae']\n",
    "x = np.arange(len(rmse))\n",
    "\n",
    "# Set up the matplotlib figure\n",
    "fig, ax = plt.subplots(figsize = (10, 5))\n",
    "plt.xticks(np.arange(min(x), max(x) + 2, 1.0))\n",
    "plt.ylim(0.5, 1.3)\n",
    "ax.plot(x, rmse, marker='o', label=\"rmse\")\n",
    "ax.plot(x, mae, marker='o', label=\"mae\")\n",
    "\n",
    "# Chart setup\n",
    "plt.title(\"Test set errors\", fontsize = 12)\n",
    "plt.xlabel(\"Fold\", fontsize = 10)\n",
    "plt.ylabel(\"Error\", fontsize = 10)\n",
    "plt.legend()\n",
    "plt.show()"
   ]
  },
  {
   "cell_type": "code",
   "execution_count": null,
   "id": "31faf880",
   "metadata": {},
   "outputs": [],
   "source": []
  }
 ],
 "metadata": {
  "kernelspec": {
   "display_name": "Python 3 (ipykernel)",
   "language": "python",
   "name": "python3"
  },
  "language_info": {
   "codemirror_mode": {
    "name": "ipython",
    "version": 3
   },
   "file_extension": ".py",
   "mimetype": "text/x-python",
   "name": "python",
   "nbconvert_exporter": "python",
   "pygments_lexer": "ipython3",
   "version": "3.9.13"
  }
 },
 "nbformat": 4,
 "nbformat_minor": 5
}
